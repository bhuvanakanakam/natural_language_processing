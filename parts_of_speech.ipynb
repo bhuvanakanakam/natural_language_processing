{
  "nbformat": 4,
  "nbformat_minor": 0,
  "metadata": {
    "colab": {
      "provenance": [],
      "toc_visible": true
    },
    "kernelspec": {
      "name": "python3",
      "display_name": "Python 3"
    },
    "language_info": {
      "name": "python"
    }
  },
  "cells": [
    {
      "cell_type": "markdown",
      "source": [
        "### Parts of Speech Tagging, Feb 16 - 2024"
      ],
      "metadata": {
        "id": "nwG1YjbDaSmO"
      }
    },
    {
      "cell_type": "markdown",
      "source": [
        "#### Importing the library"
      ],
      "metadata": {
        "id": "OMEA2OG-aENE"
      }
    },
    {
      "cell_type": "code",
      "execution_count": null,
      "metadata": {
        "colab": {
          "base_uri": "https://localhost:8080/"
        },
        "id": "bvFAQfKRYWgJ",
        "outputId": "ea87f58b-da89-4c19-b230-2cd12e386749"
      },
      "outputs": [
        {
          "output_type": "stream",
          "name": "stderr",
          "text": [
            "[nltk_data] Downloading package punkt to /root/nltk_data...\n",
            "[nltk_data]   Package punkt is already up-to-date!\n",
            "[nltk_data] Downloading package averaged_perceptron_tagger to\n",
            "[nltk_data]     /root/nltk_data...\n",
            "[nltk_data]   Package averaged_perceptron_tagger is already up-to-\n",
            "[nltk_data]       date!\n"
          ]
        }
      ],
      "source": [
        "import nltk\n",
        "nltk.download('punkt')\n",
        "from nltk.tokenize import word_tokenize\n",
        "nltk.download('averaged_perceptron_tagger')\n",
        "from nltk import pos_tag\n"
      ]
    },
    {
      "cell_type": "markdown",
      "source": [
        "#### Parts Of Speech Tagging"
      ],
      "metadata": {
        "id": "zVHW_weEZdIt"
      }
    },
    {
      "cell_type": "code",
      "source": [
        "text = \"Mahindra University is organizing Aether from Feb 14th to Feb 18th.\""
      ],
      "metadata": {
        "id": "tOt5kOlKY1Oe"
      },
      "execution_count": null,
      "outputs": []
    },
    {
      "cell_type": "code",
      "source": [
        "words = word_tokenize(text)\n",
        "pos_tags = pos_tag(words)\n",
        "\n",
        "print(\"Original Text:\")\n",
        "print(text)\n",
        "\n",
        "print(\"\\nPoS Tagging Result:\")\n",
        "for word, tag in pos_tags:\n",
        "    print(f\"{word}: {pos_tag_mapping.get(tag, tag)}\")"
      ],
      "metadata": {
        "colab": {
          "base_uri": "https://localhost:8080/"
        },
        "id": "s-I9pGhhZleO",
        "outputId": "25b0e9a3-3c76-4ea8-a91b-8a12da681940"
      },
      "execution_count": null,
      "outputs": [
        {
          "output_type": "stream",
          "name": "stdout",
          "text": [
            "Original Text:\n",
            "Mahindra University is organizing Aether from Feb 14th to Feb 18th.\n",
            "\n",
            "PoS Tagging Result:\n",
            "Mahindra: Proper noun, singular\n",
            "University: Proper noun, singular\n",
            "is: VBZ\n",
            "organizing: Verb, gerund or present participle\n",
            "Aether: Adverb\n",
            "from: IN\n",
            "Feb: Proper noun, singular\n",
            "14th: CD\n",
            "to: TO\n",
            "Feb: Proper noun, singular\n",
            "18th: CD\n",
            ".: .\n"
          ]
        }
      ]
    }
  ]
}